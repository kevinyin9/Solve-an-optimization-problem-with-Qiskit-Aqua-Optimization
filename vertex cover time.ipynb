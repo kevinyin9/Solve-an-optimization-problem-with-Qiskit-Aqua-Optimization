{
 "cells": [
  {
   "cell_type": "code",
   "execution_count": 14,
   "metadata": {},
   "outputs": [],
   "source": [
    "# useful additional packages \n",
    "import matplotlib.pyplot as plt\n",
    "import matplotlib.axes as axes\n",
    "import numpy as np\n",
    "import networkx as nx\n",
    "from itertools import combinations\n",
    "from qiskit import Aer, execute, QuantumCircuit\n",
    "from qiskit.quantum_info import Statevector\n",
    "from docplex.mp.model import Model\n",
    "from random import random,randint\n",
    "import warnings\n",
    "from qiskit.optimization import QuadraticProgram\n",
    "from qiskit.optimization.algorithms import CplexOptimizer\n",
    "from qiskit.optimization.converters import (\n",
    "    InequalityToEquality,     # converts inequality constraints to equality constraints by adding slack variables\n",
    "    LinearEqualityToPenalty,  # converts linear equality constraints to quadratic penalty terms \n",
    "    IntegerToBinary,          # converts integer variables to binary variables\n",
    "    QuadraticProgramToQubo    # combines the previous three converters\n",
    ")\n",
    "from qiskit.aqua.algorithms.minimum_eigen_solvers.qaoa.var_form import QAOAVarForm\n",
    "from qiskit.circuit import Parameter\n",
    "from qiskit.aqua.components.optimizers import COBYLA\n",
    "from qiskit.optimization.algorithms import MinimumEigenOptimizer\n",
    "from qiskit.aqua.algorithms import QAOA\n",
    "import time\n",
    "warnings.filterwarnings('ignore')"
   ]
  },
  {
   "cell_type": "code",
   "execution_count": 15,
   "metadata": {},
   "outputs": [],
   "source": [
    "def plot_result(G, x):\n",
    "    colors = ['r' if x[i] == 0 else 'b' for i in range(n)]\n",
    "    pos, default_axes = nx.spring_layout(G), plt.axes(frameon=True)\n",
    "    nx.draw_networkx(G, node_color=colors, node_size=600, alpha=.8, pos=pos)\n",
    "\n",
    "#Generate random graph\n",
    "def ER(n, p):\n",
    "    V = set([v for v in range(n)])\n",
    "    E = set()\n",
    "    for combination in combinations(V, 2):\n",
    "        a = random()\n",
    "        if a < p:\n",
    "            E.add(combination)\n",
    "\n",
    "    g = nx.Graph()\n",
    "    g.add_nodes_from(V)\n",
    "    g.add_edges_from(E)\n",
    "    return g\n",
    "\n",
    "def construct_schedule(T, N):\n",
    "    delta_t = T/N\n",
    "    gammas, betas = [], []  # H_C, H_X parameters\n",
    "    for i in range(N+1):\n",
    "        t = i * delta_t\n",
    "        gammas += [ 2 * delta_t * t/T ]  # H_C\n",
    "        betas += [ -2 * delta_t * (1 - t/T) ]  # H_X\n",
    "    return gammas, betas\n",
    "\n",
    "def objective(params):\n",
    "    qc_ = qc.bind_parameters({gamma: params[0], beta: params[1]})\n",
    "    probs = Statevector.from_instruction(qc_).probabilities()\n",
    "    return probs @ [1, -1]\n",
    "\n",
    "time_list = [[0 for i in range(16)] for i in range(4)]"
   ]
  },
  {
   "cell_type": "code",
   "execution_count": 28,
   "metadata": {},
   "outputs": [
    {
     "name": "stdout",
     "output_type": "stream",
     "text": [
      "4\n"
     ]
    },
    {
     "name": "stderr",
     "output_type": "stream",
     "text": [
      "The skip Qobj validation does not work for IBMQ provider. Disable it.\n"
     ]
    },
    {
     "name": "stdout",
     "output_type": "stream",
     "text": [
      "1\n",
      "2\n"
     ]
    },
    {
     "ename": "AttributeError",
     "evalue": "'QAOA' object has no attribute 'status'",
     "output_type": "error",
     "traceback": [
      "\u001b[0;31m---------------------------------------------------------------------------\u001b[0m",
      "\u001b[0;31mAttributeError\u001b[0m                            Traceback (most recent call last)",
      "\u001b[0;32m<ipython-input-28-573d3fff0cd0>\u001b[0m in \u001b[0;36m<module>\u001b[0;34m\u001b[0m\n\u001b[1;32m      9\u001b[0m \u001b[0;34m\u001b[0m\u001b[0m\n\u001b[1;32m     10\u001b[0m \u001b[0mprint\u001b[0m\u001b[0;34m(\u001b[0m\u001b[0mn\u001b[0m\u001b[0;34m)\u001b[0m\u001b[0;34m\u001b[0m\u001b[0;34m\u001b[0m\u001b[0m\n\u001b[0;32m---> 11\u001b[0;31m \u001b[0mquantum_wo_penalty\u001b[0m\u001b[0;34m(\u001b[0m\u001b[0;34m)\u001b[0m\u001b[0;34m\u001b[0m\u001b[0;34m\u001b[0m\u001b[0m\n\u001b[0m",
      "\u001b[0;32m<ipython-input-27-9c9056c56ee3>\u001b[0m in \u001b[0;36mquantum_wo_penalty\u001b[0;34m()\u001b[0m\n\u001b[1;32m     59\u001b[0m         \u001b[0mqaoa_mes\u001b[0m \u001b[0;34m=\u001b[0m \u001b[0mQAOA\u001b[0m\u001b[0;34m(\u001b[0m\u001b[0mH\u001b[0m\u001b[0;34m,\u001b[0m \u001b[0mp\u001b[0m\u001b[0;34m=\u001b[0m\u001b[0;36m1\u001b[0m\u001b[0;34m,\u001b[0m \u001b[0moptimizer\u001b[0m\u001b[0;34m=\u001b[0m\u001b[0moptimizer\u001b[0m\u001b[0;34m,\u001b[0m \u001b[0mquantum_instance\u001b[0m \u001b[0;34m=\u001b[0m \u001b[0mbackend\u001b[0m\u001b[0;34m)\u001b[0m\u001b[0;34m\u001b[0m\u001b[0;34m\u001b[0m\u001b[0m\n\u001b[1;32m     60\u001b[0m         \u001b[0mprint\u001b[0m\u001b[0;34m(\u001b[0m\u001b[0;36m2\u001b[0m\u001b[0;34m)\u001b[0m\u001b[0;34m\u001b[0m\u001b[0;34m\u001b[0m\u001b[0m\n\u001b[0;32m---> 61\u001b[0;31m         \u001b[0mjob_monitor\u001b[0m\u001b[0;34m(\u001b[0m\u001b[0mqaoa_mes\u001b[0m\u001b[0;34m)\u001b[0m\u001b[0;34m\u001b[0m\u001b[0;34m\u001b[0m\u001b[0m\n\u001b[0m\u001b[1;32m     62\u001b[0m         \u001b[0mresult\u001b[0m \u001b[0;34m=\u001b[0m \u001b[0mqaoa_mes\u001b[0m\u001b[0;34m.\u001b[0m\u001b[0mrun\u001b[0m\u001b[0;34m(\u001b[0m\u001b[0;34m)\u001b[0m\u001b[0;34m\u001b[0m\u001b[0;34m\u001b[0m\u001b[0m\n\u001b[1;32m     63\u001b[0m         \u001b[0mjob_monitor\u001b[0m\u001b[0;34m(\u001b[0m\u001b[0mresult\u001b[0m\u001b[0;34m)\u001b[0m\u001b[0;34m\u001b[0m\u001b[0;34m\u001b[0m\u001b[0m\n",
      "\u001b[0;32m~/opt/anaconda3/envs/p3.7/lib/python3.7/site-packages/qiskit/tools/monitor/job_monitor.py\u001b[0m in \u001b[0;36mjob_monitor\u001b[0;34m(job, interval, quiet, output)\u001b[0m\n\u001b[1;32m     84\u001b[0m \u001b[0;34m\u001b[0m\u001b[0m\n\u001b[1;32m     85\u001b[0m     _text_checker(job, interval, _interval_set,\n\u001b[0;32m---> 86\u001b[0;31m                   quiet=quiet, output=output)\n\u001b[0m",
      "\u001b[0;32m~/opt/anaconda3/envs/p3.7/lib/python3.7/site-packages/qiskit/tools/monitor/job_monitor.py\u001b[0m in \u001b[0;36m_text_checker\u001b[0;34m(job, interval, _interval_set, quiet, output)\u001b[0m\n\u001b[1;32m     32\u001b[0m \u001b[0;34m\u001b[0m\u001b[0m\n\u001b[1;32m     33\u001b[0m     \"\"\"\n\u001b[0;32m---> 34\u001b[0;31m     \u001b[0mstatus\u001b[0m \u001b[0;34m=\u001b[0m \u001b[0mjob\u001b[0m\u001b[0;34m.\u001b[0m\u001b[0mstatus\u001b[0m\u001b[0;34m(\u001b[0m\u001b[0;34m)\u001b[0m\u001b[0;34m\u001b[0m\u001b[0;34m\u001b[0m\u001b[0m\n\u001b[0m\u001b[1;32m     35\u001b[0m     \u001b[0mmsg\u001b[0m \u001b[0;34m=\u001b[0m \u001b[0mstatus\u001b[0m\u001b[0;34m.\u001b[0m\u001b[0mvalue\u001b[0m\u001b[0;34m\u001b[0m\u001b[0;34m\u001b[0m\u001b[0m\n\u001b[1;32m     36\u001b[0m     \u001b[0mprev_msg\u001b[0m \u001b[0;34m=\u001b[0m \u001b[0mmsg\u001b[0m\u001b[0;34m\u001b[0m\u001b[0;34m\u001b[0m\u001b[0m\n",
      "\u001b[0;31mAttributeError\u001b[0m: 'QAOA' object has no attribute 'status'"
     ]
    },
    {
     "data": {
      "image/png": "[encoded data removed]",
      "text/plain": [
       "<Figure size 432x288 with 1 Axes>"
      ]
     },
     "metadata": {},
     "output_type": "display_data"
    }
   ],
   "source": [
    "n = 4\n",
    "p = 0.95\n",
    "G = ER(n, p)\n",
    "pos = nx.spring_layout(G)\n",
    "plot_result(G,[0]*n)\n",
    "plt.title(\"Random Graph Generation Example\") \n",
    "edges = G.edges\n",
    "e = np.array(list(edges))\n",
    "\n",
    "print(n)\n",
    "quantum_wo_penalty()"
   ]
  },
  {
   "cell_type": "code",
   "execution_count": 22,
   "metadata": {},
   "outputs": [],
   "source": [
    "from qiskit.tools.monitor import job_monitor"
   ]
  },
  {
   "cell_type": "code",
   "execution_count": 8,
   "metadata": {
    "collapsed": true
   },
   "outputs": [
    {
     "name": "stdout",
     "output_type": "stream",
     "text": [
      "1\n",
      "classical_wo_penalty:  0.09863924980163574\n",
      "classical_w_penalty:  0.047145843505859375\n"
     ]
    },
    {
     "ename": "NameError",
     "evalue": "name 'qp_wo_constr' is not defined",
     "output_type": "error",
     "traceback": [
      "\u001b[0;31m---------------------------------------------------------------------------\u001b[0m",
      "\u001b[0;31mNameError\u001b[0m                                 Traceback (most recent call last)",
      "\u001b[0;32m<ipython-input-8-b34add4d8410>\u001b[0m in \u001b[0;36m<module>\u001b[0;34m\u001b[0m\n\u001b[1;32m     13\u001b[0m \u001b[0;31m#         quantum_wo_penalty()\u001b[0m\u001b[0;34m\u001b[0m\u001b[0;34m\u001b[0m\u001b[0;34m\u001b[0m\u001b[0m\n\u001b[1;32m     14\u001b[0m         \u001b[0mclassical_w_penalty\u001b[0m\u001b[0;34m(\u001b[0m\u001b[0;34m)\u001b[0m\u001b[0;34m\u001b[0m\u001b[0;34m\u001b[0m\u001b[0m\n\u001b[0;32m---> 15\u001b[0;31m         \u001b[0mquantum_w_penalty\u001b[0m\u001b[0;34m(\u001b[0m\u001b[0;34m)\u001b[0m\u001b[0;34m\u001b[0m\u001b[0;34m\u001b[0m\u001b[0m\n\u001b[0m",
      "\u001b[0;32m<ipython-input-7-708c8bf588e9>\u001b[0m in \u001b[0;36mquantum_w_penalty\u001b[0;34m()\u001b[0m\n\u001b[1;32m     63\u001b[0m \u001b[0;34m\u001b[0m\u001b[0m\n\u001b[1;32m     64\u001b[0m         \u001b[0;31m# solve Quadratic Program\u001b[0m\u001b[0;34m\u001b[0m\u001b[0;34m\u001b[0m\u001b[0;34m\u001b[0m\u001b[0m\n\u001b[0;32m---> 65\u001b[0;31m         \u001b[0mresult\u001b[0m \u001b[0;34m=\u001b[0m \u001b[0mqaoa\u001b[0m\u001b[0;34m.\u001b[0m\u001b[0msolve\u001b[0m\u001b[0;34m(\u001b[0m\u001b[0mqp_wo_constr\u001b[0m\u001b[0;34m)\u001b[0m\u001b[0;34m\u001b[0m\u001b[0;34m\u001b[0m\u001b[0m\n\u001b[0m\u001b[1;32m     66\u001b[0m         \u001b[0mend\u001b[0m \u001b[0;34m=\u001b[0m \u001b[0mtime\u001b[0m\u001b[0;34m.\u001b[0m\u001b[0mtime\u001b[0m\u001b[0;34m(\u001b[0m\u001b[0;34m)\u001b[0m\u001b[0;34m\u001b[0m\u001b[0;34m\u001b[0m\u001b[0m\n\u001b[1;32m     67\u001b[0m         \u001b[0mprint\u001b[0m\u001b[0;34m(\u001b[0m\u001b[0;34m\"quantum_w_penalty: \"\u001b[0m\u001b[0;34m,\u001b[0m \u001b[0mend\u001b[0m \u001b[0;34m-\u001b[0m \u001b[0mstart\u001b[0m\u001b[0;34m)\u001b[0m\u001b[0;34m\u001b[0m\u001b[0;34m\u001b[0m\u001b[0m\n",
      "\u001b[0;31mNameError\u001b[0m: name 'qp_wo_constr' is not defined"
     ]
    },
    {
     "data": {
      "image/png": "[encoded data removed]",
      "text/plain": [
       "<Figure size 432x288 with 1 Axes>"
      ]
     },
     "metadata": {},
     "output_type": "display_data"
    },
    {
     "data": {
      "image/png": "[encoded data removed]",
      "text/plain": [
       "<Figure size 864x360 with 1 Axes>"
      ]
     },
     "metadata": {
      "needs_background": "light"
     },
     "output_type": "display_data"
    }
   ],
   "source": [
    "for i in range(1, 15):\n",
    "        n = i\n",
    "        p = 0.95\n",
    "        G = ER(n, p)\n",
    "        pos = nx.spring_layout(G)\n",
    "        plot_result(G,[0]*n)\n",
    "        plt.title(\"Random Graph Generation Example\") \n",
    "        edges = G.edges\n",
    "        e = np.array(list(edges))\n",
    "        \n",
    "        print(n)\n",
    "        classical_wo_penalty()\n",
    "#         quantum_wo_penalty()\n",
    "        classical_w_penalty()\n",
    "        quantum_w_penalty()"
   ]
  },
  {
   "cell_type": "code",
   "execution_count": 4,
   "metadata": {},
   "outputs": [],
   "source": [
    "######## Without Penalty  #######\n",
    "######## Solve Quadratic Program using CPLEX######\n",
    "def classical_wo_penalty():\n",
    "        start = time.time()\n",
    "        mdl = Model('Vertex cover')\n",
    "        x = mdl.binary_var_list('x{}'.format(i) for i in range(n))\n",
    "        objective = mdl.sum([ (x[i] ) for i in range(n)])\n",
    "        mdl.minimize(objective)\n",
    "        for (i,j) in edges:\n",
    "            subjective = mdl.sum([x[i]+x[j]])\n",
    "            mdl.add_constraint(subjective >=1)\n",
    "        #mdl.prettyprint()\n",
    "        # convert from DOcplex model to Qiskit Quadratic Program\n",
    "        qp = QuadraticProgram()\n",
    "        qp.from_docplex(mdl)\n",
    "\n",
    "        cplex = CplexOptimizer()\n",
    "        result = cplex.solve(qp)\n",
    "        #print(result)\n",
    "        plot_result(G, result.x)\n",
    "\n",
    "        end = time.time()\n",
    "        print(\"classical_wo_penalty: \", end - start)\n",
    "        time_list[0].append(end - start)"
   ]
  },
  {
   "cell_type": "code",
   "execution_count": 27,
   "metadata": {},
   "outputs": [],
   "source": [
    "######## Solve Quadratic Program using QAOA######\n",
    "def quantum_wo_penalty():\n",
    "        start = time.time()\n",
    "        m = n +int(e.size/2)\n",
    "        mdl = Model('Vertex cover')\n",
    "        x = mdl.binary_var_list('x{}'.format(i) for i in range(n))\n",
    "        objective = mdl.sum([ (x[i] ) for i in range(n)])\n",
    "        mdl.minimize(objective)\n",
    "        for (i,j) in edges:\n",
    "            subjective = mdl.sum([x[i]+x[j]])\n",
    "            mdl.add_constraint(subjective >=1)\n",
    "#         mdl.prettyprint()\n",
    "\n",
    "        # convert from DOcplex model to Qiskit Quadratic Program\n",
    "        qp = QuadraticProgram()\n",
    "        qp.from_docplex(mdl)\n",
    "        lineq2penalty = LinearEqualityToPenalty(penalty = 1)\n",
    "        ITE = InequalityToEquality('integer')\n",
    "        ITB = IntegerToBinary()\n",
    "        qp = ITB.convert(qp)\n",
    "        qpc = ITE.convert(qp)\n",
    "        qp_wo_constr = lineq2penalty.convert(qpc)\n",
    "        qubo = QuadraticProgramToQubo()\n",
    "        qp_wo_constr = qubo.convert(qp_wo_constr)\n",
    "\n",
    "        H, offset = qp_wo_constr.to_ising()\n",
    "\n",
    "        H_matrix = np.real(H.to_matrix(massive=True))\n",
    "        # plot diagonal of matrix\n",
    "        opt_indices = list(np.where(H_matrix.diagonal() == min(H_matrix.diagonal())))[0] \n",
    "\n",
    "        # construct parameters from annealing schedule\n",
    "        T = 10\n",
    "        N = 20\n",
    "        gammas, betas = construct_schedule(T, N)\n",
    "\n",
    "        # construct variational form\n",
    "        var_form = QAOAVarForm(H, N+1)\n",
    "\n",
    "        # evaluate circuit\n",
    "        qc = var_form.construct_circuit(gammas + betas)\n",
    "        sv = Statevector.from_instruction(qc)\n",
    "        # plot probabilities\n",
    "        probabilities = sv.probabilities()\n",
    "#         plt.figure(figsize=(12, 5))\n",
    "#         plt.bar(range(2**m), probabilities)\n",
    "#         plt.bar(opt_indices, probabilities[opt_indices], color='g')\n",
    "#         plt.xticks(range(2**m), ['('+str(i)+') {0:05b}'.format(i) for i in range(2**m)], rotation=90, fontsize=14)\n",
    "#         plt.yticks(fontsize=14);\n",
    "        gamma, beta = Parameter('gamma'), Parameter('beta')\n",
    "        p = 1\n",
    "        var_form = QAOAVarForm(H, p)\n",
    "#         var_form.construct_circuit([gamma, beta]).draw('mpl')\n",
    "        circuit=vary_form.construct_circuit()\n",
    "        optimizer = COBYLA()\n",
    "\n",
    "#         qaoa_mes = QAOA(H, p=1, optimizer=optimizer, quantum_instance=Aer.get_backend('statevector_simulator'))\n",
    "        print(1)\n",
    "        qaoa_mes = QAOA(H, p=1, optimizer=optimizer, quantum_instance = backend)\n",
    "        print(2)\n",
    "        qaoa_mes\n",
    "        result = qaoa_mes.execute()\n",
    "        job_monitor(result)\n",
    "        print(3)\n",
    "#         print('optimal params:      ', result.optimal_parameters)\n",
    "#         print('optimal value:       ', result.optimal_value)\n",
    "#         print('optimal probability: ', sum(np.abs(result.eigenstate[opt_indices])**2))\n",
    "        # construct QAOA as Minimum Eigensolver\n",
    "        qaoa_mes = QAOA(p=1, optimizer=optimizer, quantum_instance = backend)\n",
    "        # construct Minimum Eigen Optimizer based on QAOA\n",
    "        qaoa = MinimumEigenOptimizer(qaoa_mes)\n",
    "\n",
    "        # solve Quadratic Program\n",
    "        result = qaoa.solve(qp_wo_constr)\n",
    "        print(4)\n",
    "        end = time.time()\n",
    "#         print(result)\n",
    "        plot_result(G, result.x)\n",
    "        print(\"quantum_wo_penalty: \", end - start)\n",
    "        time_list[1].append(end - start)"
   ]
  },
  {
   "cell_type": "code",
   "execution_count": 6,
   "metadata": {},
   "outputs": [],
   "source": [
    "######## With Penalty  #######\n",
    "######## Solve Quadratic Program using CPLEX######\n",
    "def classical_w_penalty():\n",
    "        start = time.time()\n",
    "        penalty = (e.size+n)/2\n",
    "        mdlp = Model('Vertex cover')\n",
    "        x = mdlp.binary_var_list('x{}'.format(i) for i in range(n))\n",
    "        objective = mdlp.sum([ (x[i] ) for i in range(n)])\n",
    "        subtoobj = mdlp.sum([(1 - x[i]-x[j]+2*x[i]*x[j]) for (i,j) in edges])\n",
    "        objective1 = mdlp.sum([objective,penalty*subtoobj])\n",
    "\n",
    "        mdlp.minimize(objective1)\n",
    "#         mdlp.rettyprint()\n",
    "        # convert from DOcplex model to Qiskit Quadratic Program\n",
    "        qp = QuadraticProgram()\n",
    "        qp.from_docplex(mdlp)\n",
    "\n",
    "        cplex = CplexOptimizer()\n",
    "        result = cplex.solve(qp)\n",
    "        end = time.time()\n",
    "        \n",
    "#         plot_result(G, result.x)\n",
    "        print(\"classical_w_penalty: \", end - start)\n",
    "        time_list[2].append(end - start)"
   ]
  },
  {
   "cell_type": "code",
   "execution_count": 7,
   "metadata": {},
   "outputs": [],
   "source": [
    "######## With Penalty  #######\n",
    "######## Solve Quadratic Program using QAOA######\n",
    "def quantum_w_penalty():\n",
    "        start = time.time()\n",
    "        mdlp = Model('Vertex cover')\n",
    "        penalty = (e.size+n)/2\n",
    "        x = mdlp.binary_var_list('x{}'.format(i) for i in range(n))\n",
    "        objective = mdlp.sum([ (x[i] ) for i in range(n)])\n",
    "        subtoobj = mdlp.sum([(1 - x[i]-x[j]+2*x[i]*x[j]) for (i,j) in edges])\n",
    "        objective1 = mdlp.sum([objective, penalty*subtoobj])\n",
    "\n",
    "        mdlp.minimize(objective1)\n",
    "#         mdlp.prettyprint()\n",
    "        # convert from DOcplex model to Qiskit Quadratic Program\n",
    "        qp = QuadraticProgram()\n",
    "        qp.from_docplex(mdlp)\n",
    "\n",
    "\n",
    "\n",
    "        H, offset = qp.to_ising()\n",
    "        H_matrix = np.real(H.to_matrix(massive=True))\n",
    "\n",
    "        # plot diagonal of matrix\n",
    "        opt_indices = list(np.where(H_matrix.diagonal() == min(H_matrix.diagonal())))[0]\n",
    "\n",
    "\n",
    "        # construct parameters from annealing schedule\n",
    "        T = 10\n",
    "        N = 20\n",
    "        gammas, betas = construct_schedule(T, N)\n",
    "\n",
    "        # construct variational form\n",
    "        var_form = QAOAVarForm(H, N+1)\n",
    "\n",
    "        # evaluate circuit\n",
    "        qc = var_form.construct_circuit(gammas + betas)\n",
    "        sv = Statevector.from_instruction(qc)\n",
    "        # plot probabilities\n",
    "        probabilities = sv.probabilities()\n",
    "        plt.figure(figsize=(12, 5))\n",
    "        plt.bar(range(2**n), probabilities)\n",
    "        plt.bar(opt_indices, probabilities[opt_indices], color='g')\n",
    "        plt.xticks(range(2**n), ['('+str(i)+') {0:05b}'.format(i) for i in range(2**n)], rotation=90, fontsize=14)\n",
    "        plt.yticks(fontsize=14);\n",
    "        gamma, beta = Parameter('gamma'), Parameter('beta')\n",
    "        p = 1\n",
    "        var_form = QAOAVarForm(H, p)\n",
    "        #var_form.construct_circuit([gamma, beta]).draw('mpl')\n",
    "\n",
    "        optimizer = COBYLA()\n",
    "\n",
    "        qaoa_mes = QAOA(H, p=1, optimizer=optimizer, quantum_instance=Aer.get_backend('statevector_simulator'))\n",
    "        result = qaoa_mes.run()\n",
    "\n",
    "#         print('optimal params:      ', result.optimal_parameters)\n",
    "#         print('optimal value:       ', result.optimal_value)\n",
    "#         print('optimal probability: ', sum(np.abs(result.eigenstate[opt_indices])**2))\n",
    "        # construct QAOA as Minimum Eigensolver\n",
    "        qaoa_mes = QAOA(p=1, optimizer=optimizer, quantum_instance=Aer.get_backend('statevector_simulator'))\n",
    "\n",
    "        # construct Minimum Eigen Optimizer based on QAOA\n",
    "        qaoa = MinimumEigenOptimizer(qaoa_mes)\n",
    "\n",
    "        # solve Quadratic Program\n",
    "        result = qaoa.solve(qp_wo_constr)\n",
    "        end = time.time()\n",
    "        print(\"quantum_w_penalty: \", end - start)\n",
    "        time_list[3].append(end - start)\n",
    "        plot_result(G, result.x)"
   ]
  },
  {
   "cell_type": "code",
   "execution_count": 12,
   "metadata": {},
   "outputs": [
    {
     "data": {
      "text/plain": [
       "[<IBMQSimulator('ibmq_qasm_simulator') from IBMQ(hub='ibm-q', group='open', project='main')>,\n",
       " <IBMQBackend('ibmqx2') from IBMQ(hub='ibm-q', group='open', project='main')>,\n",
       " <IBMQBackend('ibmq_16_melbourne') from IBMQ(hub='ibm-q', group='open', project='main')>,\n",
       " <IBMQBackend('ibmq_vigo') from IBMQ(hub='ibm-q', group='open', project='main')>,\n",
       " <IBMQBackend('ibmq_ourense') from IBMQ(hub='ibm-q', group='open', project='main')>,\n",
       " <IBMQBackend('ibmq_valencia') from IBMQ(hub='ibm-q', group='open', project='main')>,\n",
       " <IBMQBackend('ibmq_london') from IBMQ(hub='ibm-q', group='open', project='main')>,\n",
       " <IBMQBackend('ibmq_burlington') from IBMQ(hub='ibm-q', group='open', project='main')>,\n",
       " <IBMQBackend('ibmq_essex') from IBMQ(hub='ibm-q', group='open', project='main')>,\n",
       " <IBMQBackend('ibmq_armonk') from IBMQ(hub='ibm-q', group='open', project='main')>,\n",
       " <IBMQBackend('ibmq_santiago') from IBMQ(hub='ibm-q', group='open', project='main')>]"
      ]
     },
     "execution_count": 12,
     "metadata": {},
     "output_type": "execute_result"
    }
   ],
   "source": [
    "from qiskit import IBMQ, assemble, transpile\n",
    "\n",
    "provider = IBMQ.enable_account('f8181846e31bc3f1483e27d4d5400de54ac5b61706a9e33c0763c78c85668c650cd9fff24eefa4209912dee7800080c16e13bb54d63931847fdf04c2150aa886')\n",
    "\n",
    "backends = provider.backends()"
   ]
  },
  {
   "cell_type": "code",
   "execution_count": 13,
   "metadata": {},
   "outputs": [
    {
     "data": {
      "text/plain": [
       "<IBMQBackend('ibmq_16_melbourne') from IBMQ(hub='ibm-q', group='open', project='main')>"
      ]
     },
     "execution_count": 13,
     "metadata": {},
     "output_type": "execute_result"
    }
   ],
   "source": [
    "backend = provider.get_backend('ibmq_16_melbourne')\n",
    "backend"
   ]
  },
  {
   "cell_type": "code",
   "execution_count": null,
   "metadata": {},
   "outputs": [],
   "source": []
  }
 ],
 "metadata": {
  "kernelspec": {
   "display_name": "Python 3",
   "language": "python",
   "name": "python3"
  },
  "language_info": {
   "codemirror_mode": {
    "name": "ipython",
    "version": 3
   },
   "file_extension": ".py",
   "mimetype": "text/x-python",
   "name": "python",
   "nbconvert_exporter": "python",
   "pygments_lexer": "ipython3",
   "version": "3.7.9"
  }
 },
 "nbformat": 4,
 "nbformat_minor": 2
}
